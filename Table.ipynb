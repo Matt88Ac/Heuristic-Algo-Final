{
 "cells": [
  {
   "cell_type": "code",
   "execution_count": 1,
   "metadata": {
    "collapsed": true
   },
   "outputs": [
    {
     "data": {
      "text/plain": "    Sphere Distance   Time(s)  Number of Steps Algorithm Metric Space  \\\n0        523.128247  0.004987               26        A*       Sphere   \n1        523.128247  0.004987               26        A*    Euclidean   \n2        523.128247  0.004987               29        A*    Manhattan   \n3        523.128247  0.004987               27        A*       Octile   \n4        523.128247  0.003989               27        A*    Chebyshev   \n5        523.128247  0.028923              144  Dijkstra    H(x, y)=0   \n6        523.128247  0.003989               17        A*       Sphere   \n7        523.128247  0.003989               17        A*    Euclidean   \n8        523.128247  0.002992               17        A*    Manhattan   \n9        523.128247  0.002992               18        A*       Octile   \n10       523.128247  0.002992               18        A*    Chebyshev   \n11       523.128247  0.058842              248  Dijkstra    H(x, y)=0   \n\n    Number of Vertex  Total Path Weight Network Type  \n0                211              150.6        drive  \n1                211              157.4        drive  \n2                211              157.4        drive  \n3                211              157.4        drive  \n4                211              150.6        drive  \n5                211              149.7        drive  \n6                340              151.4         bike  \n7                340              151.4         bike  \n8                340              151.4         bike  \n9                340              157.3         bike  \n10               340              157.3         bike  \n11               340              145.5         bike  ",
      "text/html": "<div>\n<style scoped>\n    .dataframe tbody tr th:only-of-type {\n        vertical-align: middle;\n    }\n\n    .dataframe tbody tr th {\n        vertical-align: top;\n    }\n\n    .dataframe thead th {\n        text-align: right;\n    }\n</style>\n<table border=\"1\" class=\"dataframe\">\n  <thead>\n    <tr style=\"text-align: right;\">\n      <th></th>\n      <th>Sphere Distance</th>\n      <th>Time(s)</th>\n      <th>Number of Steps</th>\n      <th>Algorithm</th>\n      <th>Metric Space</th>\n      <th>Number of Vertex</th>\n      <th>Total Path Weight</th>\n      <th>Network Type</th>\n    </tr>\n  </thead>\n  <tbody>\n    <tr>\n      <th>0</th>\n      <td>523.128247</td>\n      <td>0.004987</td>\n      <td>26</td>\n      <td>A*</td>\n      <td>Sphere</td>\n      <td>211</td>\n      <td>150.6</td>\n      <td>drive</td>\n    </tr>\n    <tr>\n      <th>1</th>\n      <td>523.128247</td>\n      <td>0.004987</td>\n      <td>26</td>\n      <td>A*</td>\n      <td>Euclidean</td>\n      <td>211</td>\n      <td>157.4</td>\n      <td>drive</td>\n    </tr>\n    <tr>\n      <th>2</th>\n      <td>523.128247</td>\n      <td>0.004987</td>\n      <td>29</td>\n      <td>A*</td>\n      <td>Manhattan</td>\n      <td>211</td>\n      <td>157.4</td>\n      <td>drive</td>\n    </tr>\n    <tr>\n      <th>3</th>\n      <td>523.128247</td>\n      <td>0.004987</td>\n      <td>27</td>\n      <td>A*</td>\n      <td>Octile</td>\n      <td>211</td>\n      <td>157.4</td>\n      <td>drive</td>\n    </tr>\n    <tr>\n      <th>4</th>\n      <td>523.128247</td>\n      <td>0.003989</td>\n      <td>27</td>\n      <td>A*</td>\n      <td>Chebyshev</td>\n      <td>211</td>\n      <td>150.6</td>\n      <td>drive</td>\n    </tr>\n    <tr>\n      <th>5</th>\n      <td>523.128247</td>\n      <td>0.028923</td>\n      <td>144</td>\n      <td>Dijkstra</td>\n      <td>H(x, y)=0</td>\n      <td>211</td>\n      <td>149.7</td>\n      <td>drive</td>\n    </tr>\n    <tr>\n      <th>6</th>\n      <td>523.128247</td>\n      <td>0.003989</td>\n      <td>17</td>\n      <td>A*</td>\n      <td>Sphere</td>\n      <td>340</td>\n      <td>151.4</td>\n      <td>bike</td>\n    </tr>\n    <tr>\n      <th>7</th>\n      <td>523.128247</td>\n      <td>0.003989</td>\n      <td>17</td>\n      <td>A*</td>\n      <td>Euclidean</td>\n      <td>340</td>\n      <td>151.4</td>\n      <td>bike</td>\n    </tr>\n    <tr>\n      <th>8</th>\n      <td>523.128247</td>\n      <td>0.002992</td>\n      <td>17</td>\n      <td>A*</td>\n      <td>Manhattan</td>\n      <td>340</td>\n      <td>151.4</td>\n      <td>bike</td>\n    </tr>\n    <tr>\n      <th>9</th>\n      <td>523.128247</td>\n      <td>0.002992</td>\n      <td>18</td>\n      <td>A*</td>\n      <td>Octile</td>\n      <td>340</td>\n      <td>157.3</td>\n      <td>bike</td>\n    </tr>\n    <tr>\n      <th>10</th>\n      <td>523.128247</td>\n      <td>0.002992</td>\n      <td>18</td>\n      <td>A*</td>\n      <td>Chebyshev</td>\n      <td>340</td>\n      <td>157.3</td>\n      <td>bike</td>\n    </tr>\n    <tr>\n      <th>11</th>\n      <td>523.128247</td>\n      <td>0.058842</td>\n      <td>248</td>\n      <td>Dijkstra</td>\n      <td>H(x, y)=0</td>\n      <td>340</td>\n      <td>145.5</td>\n      <td>bike</td>\n    </tr>\n  </tbody>\n</table>\n</div>"
     },
     "execution_count": 1,
     "metadata": {},
     "output_type": "execute_result"
    }
   ],
   "source": [
    "import pandas as pd\n",
    "df = pd.read_csv('our_data.csv', index_col=0)\n",
    "df.head(12)\n"
   ]
  }
 ],
 "metadata": {
  "kernelspec": {
   "name": "python37764bitfcaeba8ec0034e88ab2ae4e6f7b7e14a",
   "language": "python",
   "display_name": "Python 3.7.7 64-bit"
  },
  "language_info": {
   "codemirror_mode": {
    "name": "ipython",
    "version": 2
   },
   "file_extension": ".py",
   "mimetype": "text/x-python",
   "name": "python",
   "nbconvert_exporter": "python",
   "pygments_lexer": "ipython2",
   "version": "2.7.6"
  }
 },
 "nbformat": 4,
 "nbformat_minor": 0
}